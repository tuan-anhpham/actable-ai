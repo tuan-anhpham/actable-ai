{
 "cells": [
  {
   "cell_type": "code",
   "execution_count": 1,
   "metadata": {},
   "outputs": [],
   "source": [
    "import numpy as np\n",
    "\n",
    "def acc(y_true, y_pred):\n",
    "    \"\"\"\n",
    "    Calculate clustering accuracy. Require scikit-learn installed\n",
    "    # Arguments\n",
    "        y: true labels, numpy.array with shape `(n_samples,)`\n",
    "        y_pred: predicted labels, numpy.array with shape `(n_samples,)`\n",
    "    # Return\n",
    "        accuracy, in [0,1]\n",
    "    \"\"\"\n",
    "    y_true = y_true.astype(np.int64)\n",
    "    assert y_pred.size == y_true.size\n",
    "    D = max(y_pred.max(), y_true.max()) + 1\n",
    "    w = np.zeros((D, D), dtype=np.int64)\n",
    "    for i in range(y_pred.size):\n",
    "        w[y_pred[i], y_true[i]] += 1\n",
    "    from scipy.optimize import linear_sum_assignment\n",
    "    row_inds, col_inds = linear_sum_assignment(w.max() - w)\n",
    "    print(\"Table of predicted values:\\n\", w)\n",
    "    return sum(w[row_inds, col_inds]) * 1.0 / y_pred.size"
   ]
  },
  {
   "cell_type": "code",
   "execution_count": 2,
   "metadata": {},
   "outputs": [],
   "source": [
    "# # Preprocessing data\n",
    "# import pandas as pd\n",
    "# actual_data = pd.read_csv(\"iris.csv\")\n",
    "# actual_data.isnull().sum()\n",
    "# # # #actual_data.dropna(inplace=True)\n",
    "# actual_data.to_csv(\"preprocessed_iris.csv\")"
   ]
  },
  {
   "cell_type": "code",
   "execution_count": 3,
   "metadata": {},
   "outputs": [],
   "source": [
    "### Config parameters\n",
    "ACTABLEAI_RESULT_LINK = \"https://app.actable.ai/tsne/api/task/aab56e30-9075-40e9-9dd3-1b6f5acab130\"\n",
    "TABLEAU_RESULT_FILE_NAME = \"iris_tableau.csv\"\n",
    "ACTUAL_FILE_NAME = \"iris.csv\"\n",
    "\n",
    "ACTUAL_LABEL_MAP = {'Setosa':0, 'Versicolor':1, 'Virginica':2}\n",
    "ACTUAL_COLUMN_NAME = 'variety'\n",
    "\n",
    "ORDERED_COLUMN = ['sepal_length', 'sepal_width', 'petal_length', 'petal_width']\n",
    "CONVERTED_TABLEAU_CLUSTER_LABEL = {1:0, 2:1, 3:2}"
   ]
  },
  {
   "cell_type": "markdown",
   "metadata": {},
   "source": [
    "## ActableAI"
   ]
  },
  {
   "cell_type": "code",
   "execution_count": 4,
   "metadata": {},
   "outputs": [],
   "source": [
    "# Transform the result from ActableAI to dataframe\n",
    "actableai_result_link = ACTABLEAI_RESULT_LINK"
   ]
  },
  {
   "cell_type": "code",
   "execution_count": 5,
   "metadata": {},
   "outputs": [],
   "source": [
    "import requests\n",
    "import pandas as pd"
   ]
  },
  {
   "cell_type": "code",
   "execution_count": 6,
   "metadata": {},
   "outputs": [],
   "source": [
    "actableai_result = requests.get(actableai_result_link).json()['data']"
   ]
  },
  {
   "cell_type": "code",
   "execution_count": 7,
   "metadata": {},
   "outputs": [],
   "source": [
    "refined_actableai_result = []\n",
    "\n",
    "for cluster in actableai_result:\n",
    "    cluster_id = cluster['cluster_id']\n",
    "    cluster_data = cluster['value']\n",
    "    for row in cluster_data:\n",
    "        row_content = row['column']\n",
    "        row_content['label'] = cluster_id\n",
    "        refined_actableai_result.append(row_content)\n",
    "\n",
    "actableai_df = pd.DataFrame(refined_actableai_result)"
   ]
  },
  {
   "cell_type": "markdown",
   "metadata": {},
   "source": [
    "## Tableau"
   ]
  },
  {
   "cell_type": "code",
   "execution_count": 8,
   "metadata": {},
   "outputs": [],
   "source": [
    "# Load clustering results from Tableau\n",
    "tableau_df = pd.read_csv(TABLEAU_RESULT_FILE_NAME)\n",
    "tableau_df.columns = [column.lower() for column in tableau_df.columns]\n",
    "tableau_df.columns = [column.replace(' ', '_') for column in tableau_df.columns]"
   ]
  },
  {
   "cell_type": "markdown",
   "metadata": {},
   "source": [
    "## Actual data"
   ]
  },
  {
   "cell_type": "code",
   "execution_count": 9,
   "metadata": {},
   "outputs": [],
   "source": [
    "# Load actual_data\n",
    "actual_df = pd.read_csv(ACTUAL_FILE_NAME)\n",
    "\n",
    "# Convert category label to numeric label\n",
    "convert_column = ACTUAL_COLUMN_NAME\n",
    "convert_dict = ACTUAL_LABEL_MAP\n",
    "actual_df[convert_column] = actual_df[convert_column].map(convert_dict)"
   ]
  },
  {
   "cell_type": "markdown",
   "metadata": {},
   "source": [
    "## Merge all dataframes together"
   ]
  },
  {
   "cell_type": "code",
   "execution_count": 10,
   "metadata": {},
   "outputs": [],
   "source": [
    "# Set column\n",
    "ordered_columns = ORDERED_COLUMN"
   ]
  },
  {
   "cell_type": "markdown",
   "metadata": {},
   "source": [
    "## ActableAI key transform"
   ]
  },
  {
   "cell_type": "code",
   "execution_count": 11,
   "metadata": {},
   "outputs": [
    {
     "name": "stdout",
     "output_type": "stream",
     "text": [
      "(148, 2)\n"
     ]
    }
   ],
   "source": [
    "actableai_int_df = actableai_df.applymap(lambda x: x if (type(x) == str) or (type(x) == int) else float(x))\n",
    "actableai_int_df['key'] = actableai_int_df[ordered_columns].astype(str).apply(lambda x: ''.join(x), axis=1)\n",
    "actableai_transform_df = actableai_int_df[['key', 'label']]\n",
    "actableai_transform_df = actableai_transform_df.drop_duplicates(keep=False)\n",
    "print(actableai_transform_df.shape)"
   ]
  },
  {
   "cell_type": "markdown",
   "metadata": {},
   "source": [
    "## Tableau key transform"
   ]
  },
  {
   "cell_type": "code",
   "execution_count": 12,
   "metadata": {},
   "outputs": [],
   "source": [
    "tableau_int_df = tableau_df.applymap(lambda x: x if (type(x) == str) or (type(x) == int) else float(x))\n",
    "tableau_int_df['key'] = tableau_int_df[ordered_columns].astype(str).apply(lambda x: ''.join(x), axis=1)\n",
    "tableau_transform_df = tableau_int_df[['key', 'clusters']]\n",
    "tableau_transform_df = tableau_transform_df.drop_duplicates(keep=False)"
   ]
  },
  {
   "cell_type": "markdown",
   "metadata": {},
   "source": [
    "## Actual key transform"
   ]
  },
  {
   "cell_type": "code",
   "execution_count": 13,
   "metadata": {},
   "outputs": [],
   "source": [
    "actual_int_df = actual_df.applymap(lambda x: x if (type(x) == str) or (type(x) == int) else float(x))\n",
    "actual_int_df['key'] = actual_int_df[ordered_columns].astype(str).apply(lambda x: ''.join(x), axis=1)\n",
    "actual_transform_df = actual_int_df[['key', ACTUAL_COLUMN_NAME]]\n",
    "actual_transform_df = actual_transform_df.drop_duplicates(keep=False)"
   ]
  },
  {
   "cell_type": "code",
   "execution_count": 14,
   "metadata": {},
   "outputs": [],
   "source": [
    "combined_df = pd.merge(left=actual_transform_df, right=actableai_transform_df, on='key', how='inner')\n",
    "combined_df.shape\n",
    "combined_df = pd.merge(left=combined_df, right=tableau_transform_df, on='key', how='inner')"
   ]
  },
  {
   "cell_type": "code",
   "execution_count": 15,
   "metadata": {},
   "outputs": [
    {
     "data": {
      "text/html": [
       "<div>\n",
       "<style scoped>\n",
       "    .dataframe tbody tr th:only-of-type {\n",
       "        vertical-align: middle;\n",
       "    }\n",
       "\n",
       "    .dataframe tbody tr th {\n",
       "        vertical-align: top;\n",
       "    }\n",
       "\n",
       "    .dataframe thead th {\n",
       "        text-align: right;\n",
       "    }\n",
       "</style>\n",
       "<table border=\"1\" class=\"dataframe\">\n",
       "  <thead>\n",
       "    <tr style=\"text-align: right;\">\n",
       "      <th></th>\n",
       "      <th>key</th>\n",
       "      <th>actual</th>\n",
       "      <th>actableai</th>\n",
       "      <th>tableau</th>\n",
       "    </tr>\n",
       "  </thead>\n",
       "  <tbody>\n",
       "    <tr>\n",
       "      <th>0</th>\n",
       "      <td>5.13.51.40.2</td>\n",
       "      <td>0</td>\n",
       "      <td>1</td>\n",
       "      <td>0</td>\n",
       "    </tr>\n",
       "    <tr>\n",
       "      <th>1</th>\n",
       "      <td>4.93.01.40.2</td>\n",
       "      <td>0</td>\n",
       "      <td>1</td>\n",
       "      <td>0</td>\n",
       "    </tr>\n",
       "    <tr>\n",
       "      <th>2</th>\n",
       "      <td>4.73.21.30.2</td>\n",
       "      <td>0</td>\n",
       "      <td>1</td>\n",
       "      <td>0</td>\n",
       "    </tr>\n",
       "    <tr>\n",
       "      <th>3</th>\n",
       "      <td>4.63.11.50.2</td>\n",
       "      <td>0</td>\n",
       "      <td>1</td>\n",
       "      <td>0</td>\n",
       "    </tr>\n",
       "    <tr>\n",
       "      <th>4</th>\n",
       "      <td>5.03.61.40.2</td>\n",
       "      <td>0</td>\n",
       "      <td>1</td>\n",
       "      <td>0</td>\n",
       "    </tr>\n",
       "    <tr>\n",
       "      <th>...</th>\n",
       "      <td>...</td>\n",
       "      <td>...</td>\n",
       "      <td>...</td>\n",
       "      <td>...</td>\n",
       "    </tr>\n",
       "    <tr>\n",
       "      <th>143</th>\n",
       "      <td>6.73.05.22.3</td>\n",
       "      <td>2</td>\n",
       "      <td>2</td>\n",
       "      <td>1</td>\n",
       "    </tr>\n",
       "    <tr>\n",
       "      <th>144</th>\n",
       "      <td>6.32.55.01.9</td>\n",
       "      <td>2</td>\n",
       "      <td>2</td>\n",
       "      <td>2</td>\n",
       "    </tr>\n",
       "    <tr>\n",
       "      <th>145</th>\n",
       "      <td>6.53.05.22.0</td>\n",
       "      <td>2</td>\n",
       "      <td>2</td>\n",
       "      <td>1</td>\n",
       "    </tr>\n",
       "    <tr>\n",
       "      <th>146</th>\n",
       "      <td>6.23.45.42.3</td>\n",
       "      <td>2</td>\n",
       "      <td>2</td>\n",
       "      <td>1</td>\n",
       "    </tr>\n",
       "    <tr>\n",
       "      <th>147</th>\n",
       "      <td>5.93.05.11.8</td>\n",
       "      <td>2</td>\n",
       "      <td>0</td>\n",
       "      <td>2</td>\n",
       "    </tr>\n",
       "  </tbody>\n",
       "</table>\n",
       "<p>148 rows × 4 columns</p>\n",
       "</div>"
      ],
      "text/plain": [
       "              key  actual  actableai  tableau\n",
       "0    5.13.51.40.2       0          1        0\n",
       "1    4.93.01.40.2       0          1        0\n",
       "2    4.73.21.30.2       0          1        0\n",
       "3    4.63.11.50.2       0          1        0\n",
       "4    5.03.61.40.2       0          1        0\n",
       "..            ...     ...        ...      ...\n",
       "143  6.73.05.22.3       2          2        1\n",
       "144  6.32.55.01.9       2          2        2\n",
       "145  6.53.05.22.0       2          2        1\n",
       "146  6.23.45.42.3       2          2        1\n",
       "147  5.93.05.11.8       2          0        2\n",
       "\n",
       "[148 rows x 4 columns]"
      ]
     },
     "execution_count": 15,
     "metadata": {},
     "output_type": "execute_result"
    }
   ],
   "source": [
    "convert_tableau_label = CONVERTED_TABLEAU_CLUSTER_LABEL\n",
    "rename_column = {ACTUAL_COLUMN_NAME:'actual', 'label':'actableai', 'clusters':'tableau'}\n",
    "combined_df = combined_df.rename(columns=rename_column)\n",
    "combined_df['tableau'] = combined_df['tableau'].map(convert_tableau_label)\n",
    "combined_df"
   ]
  },
  {
   "cell_type": "code",
   "execution_count": 16,
   "metadata": {},
   "outputs": [
    {
     "name": "stdout",
     "output_type": "stream",
     "text": [
      "Table of predicted values:\n",
      " [[ 0 49 11]\n",
      " [50  0  0]\n",
      " [ 0  1 37]]\n",
      "0.918918918918919\n"
     ]
    }
   ],
   "source": [
    "actable_ai_acc = acc(combined_df['actual'], combined_df['actableai'])\n",
    "print(actable_ai_acc)"
   ]
  },
  {
   "cell_type": "code",
   "execution_count": 17,
   "metadata": {},
   "outputs": [
    {
     "name": "stdout",
     "output_type": "stream",
     "text": [
      "Table of predicted values:\n",
      " [[50  0  0]\n",
      " [ 0  3 36]\n",
      " [ 0 47 12]]\n",
      "0.8986486486486487\n"
     ]
    }
   ],
   "source": [
    "tableau_acc = acc(combined_df['actual'], combined_df['tableau'])\n",
    "print(tableau_acc)"
   ]
  }
 ],
 "metadata": {
  "kernelspec": {
   "display_name": "Python 3",
   "language": "python",
   "name": "python3"
  },
  "language_info": {
   "codemirror_mode": {
    "name": "ipython",
    "version": 3
   },
   "file_extension": ".py",
   "mimetype": "text/x-python",
   "name": "python",
   "nbconvert_exporter": "python",
   "pygments_lexer": "ipython3",
   "version": "3.8.3"
  }
 },
 "nbformat": 4,
 "nbformat_minor": 4
}
